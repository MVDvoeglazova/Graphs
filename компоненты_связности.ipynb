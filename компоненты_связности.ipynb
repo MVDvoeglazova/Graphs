{
  "nbformat": 4,
  "nbformat_minor": 0,
  "metadata": {
    "colab": {
      "provenance": []
    },
    "kernelspec": {
      "name": "python3",
      "display_name": "Python 3"
    },
    "language_info": {
      "name": "python"
    }
  },
  "cells": [
    {
      "cell_type": "markdown",
      "source": [
        "## Задача: посчитать компоненты связности (с dfs, c bfs)\n"
      ],
      "metadata": {
        "id": "AaUR1ix42d5y"
      }
    },
    {
      "cell_type": "code",
      "execution_count": null,
      "metadata": {
        "id": "e7U6A1ga2YzO"
      },
      "outputs": [],
      "source": [
        "#V: a, b, c, d, e, f, g\n",
        "#E: (a, b), (b, c), (b, d), (c, d), (e, f)\n",
        "\n",
        "a, b, c, d, e, f, g = range(7)\n",
        "edges = [(a, b), (b, c), (b, d), (c, d), (e, f)]\n",
        "vertex = [a, b, c, d, e, f, g]\n",
        "\n",
        "graph = dict()\n",
        "for v in vertex:\n",
        "    graph[v] = list()\n",
        "\n",
        "for k,v in edges:\n",
        "    graph[k].append(v)\n",
        "    graph[v].append(k)\n",
        "\n",
        "visited = []\n",
        "comp = 1\n",
        "\n",
        "def dfs(graph, visited, now_vertex, comp):\n",
        "    for k in graph[now_vertex]:\n",
        "        if k not in visited:\n",
        "            visited.append(k)\n",
        "            dfs(graph, visited, k, comp)\n",
        "\n",
        "def bfs(graph, visited, now_vertex, comp):\n",
        "    array = list()\n",
        "    array.append(graph[now_vertex])\n",
        "    visited.append(now_vertex)\n",
        "\n",
        "    while array:\n",
        "        for i in array.pop(0):\n",
        "            if i not in visited:\n",
        "                array.append(graph[i])\n",
        "                visited.append(i)\n",
        "\n",
        "\n",
        "\n",
        "for now_vertex in vertex:\n",
        "    if now_vertex not in visited:\n",
        "        #dfs(graph, visited, now_vertex, comp)\n",
        "        bfs(graph, visited, now_vertex, comp)\n",
        "        comp+=1\n",
        "\n",
        "print(comp)"
      ]
    },
    {
      "cell_type": "markdown",
      "source": [],
      "metadata": {
        "id": "WZQXhrcU2ciQ"
      }
    }
  ]
}