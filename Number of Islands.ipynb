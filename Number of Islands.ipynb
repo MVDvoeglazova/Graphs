{
  "nbformat": 4,
  "nbformat_minor": 0,
  "metadata": {
    "colab": {
      "provenance": []
    },
    "kernelspec": {
      "name": "python3",
      "display_name": "Python 3"
    },
    "language_info": {
      "name": "python"
    }
  },
  "cells": [
    {
      "cell_type": "markdown",
      "source": [
        "[Number of Islands](https://leetcode.com/problems/number-of-islands/description/)"
      ],
      "metadata": {
        "id": "QwMBSORCvbNO"
      }
    },
    {
      "cell_type": "markdown",
      "source": [
        "Способ 1. Обход в глубину"
      ],
      "metadata": {
        "id": "7kRVuM0rvrTZ"
      }
    },
    {
      "cell_type": "code",
      "source": [
        "def numIslands(grid):\n",
        "        if not grid:\n",
        "            return 0\n",
        "        \n",
        "        rows, cols = len(grid), len(grid[0])\n",
        "        set_visited_vertexes = set()\n",
        "        islands = 0\n",
        "\n",
        "        def dfs(r, c):\n",
        "            print(r, rows, c, cols)\n",
        "            if (r not in range(rows) or c not in range(cols)\n",
        "            or (r, c) in set_visited_vertexes\n",
        "            or grid[r][c]=='0'): return\n",
        "\n",
        "            set_visited_vertexes.add((r, c))\n",
        "\n",
        "            delta = [[0, 1], [1, 0], [0, -1], [-1, 0]]\n",
        "            for d in delta:\n",
        "                dfs(d[0]+r, d[1]+c)\n",
        "\n",
        "        for r in range(rows):\n",
        "            for c in range(cols):\n",
        "                if grid[r][c] == '1' and (r, c) not in set_visited_vertexes:\n",
        "                    dfs(r, c)\n",
        "                    islands += 1\n",
        "        return islands"
      ],
      "metadata": {
        "id": "vpWK7kaXvpem"
      },
      "execution_count": 1,
      "outputs": []
    },
    {
      "cell_type": "markdown",
      "source": [
        "Способ 2. Обход в ширину"
      ],
      "metadata": {
        "id": "O92vCoU6wIGk"
      }
    },
    {
      "cell_type": "code",
      "source": [
        "def numIslands(grid):\n",
        "        if not grid:\n",
        "            return 0\n",
        "        \n",
        "        rows, cols = len(grid), len(grid[0])\n",
        "        set_visited_vertexes = set()\n",
        "        islands = 0\n",
        "        def bfs(r, c):\n",
        "            array = list()\n",
        "            set_visited_vertexes.add((r,c))\n",
        "            array.append((r, c))\n",
        "\n",
        "            while array:\n",
        "                row, col = array.pop(0)\n",
        "                delta = [[-1, 0], [0, 1], [0, -1], [1, 0]]\n",
        "                for dr, dc in delta:\n",
        "                    r = row + dr\n",
        "                    c = col + dc\n",
        "                    if (r) in range(rows) and (c) in range(cols) and grid[r][c] == '1' and (r ,c) not in set_visited_vertexes:\n",
        "                        array.append((r, c))\n",
        "                        set_visited_vertexes.add((r, c))\n",
        "\n",
        "        for r in range(rows):\n",
        "            for c in range(cols):\n",
        "                if grid[r][c] == '1' and (r, c) not in set_visited_vertexes:\n",
        "                    bfs(r, c)\n",
        "                    islands += 1\n",
        "                    print('*', (r, c) not in set_visited_vertexes)\n",
        "                \n",
        "\n",
        "        return islands"
      ],
      "metadata": {
        "id": "TpJTE3R1wHTs"
      },
      "execution_count": 2,
      "outputs": []
    },
    {
      "cell_type": "markdown",
      "source": [
        "код первой консультации"
      ],
      "metadata": {
        "id": "PVz2n0Lqw-cZ"
      }
    },
    {
      "cell_type": "code",
      "source": [
        "# -*- coding: cp1251 -*-\n",
        "\n",
        "a, b, c, d, e = range(5)\n",
        "graph = [[0, 1, 1, 1, 1],\n",
        "         [1, 0, 1, 1, 1],\n",
        "         [1, 1, 0, 1, 1],\n",
        "         [1, 1, 1, 0, 1],\n",
        "         [1, 1, 1, 1, 0]]\n",
        "sum_v = 0\n",
        "for i in graph:\n",
        "    for j in i:\n",
        "        if j == 1:\n",
        "            sum_v += 1\n",
        "            break\n",
        "print('sum_v =', sum_v)\n",
        "\n",
        "s = set()\n",
        "e = list()\n",
        "with open('test_components.txt', 'r') as f1:\n",
        "    for i in f1:\n",
        "        s.add(i[0])\n",
        "        s.add(i[1])\n",
        "        e.append(i[0:2])\n",
        "    print(e)\n",
        "l = sorted(list(s))\n",
        "d = dict()\n",
        "it = 0\n",
        "for i in l:\n",
        "    d[i] = it\n",
        "    it += 1\n",
        "print(d)\n",
        "graph = [[0 for i in range(len(l))] for j in range(len(l))]\n",
        "\n",
        "for i in e:\n",
        "    graph[d[i[0]]][d[i[1]]] = 1\n",
        "    graph[d[i[1]]][d[i[0]]] = 1\n",
        "for i in graph:\n",
        "    print(i)\n",
        "\n",
        "set_v = set()\n",
        "prev = -1\n",
        "i = 0\n",
        "list_v = list()\n",
        "\n",
        "\n",
        "def def_graph(i, graph, set_v):\n",
        "    set_v.add(i)\n",
        "    print(set_v)\n",
        "    for j in range(len(graph[i])):\n",
        "        if graph[i][j] == 1:\n",
        "            if j not in set_v:\n",
        "                list_v.append(j)\n",
        "                def_graph(j, graph, set_v)\n",
        "\n",
        "\n",
        "def_graph(i, graph, set_v)\n",
        "print('result = ', len(set_v), set_v)\n",
        "\n",
        "\n",
        "\n",
        "\n"
      ],
      "metadata": {
        "id": "0K3EtrxNwsCK"
      },
      "execution_count": null,
      "outputs": []
    },
    {
      "cell_type": "code",
      "source": [],
      "metadata": {
        "id": "ZvvtIv-hzFrU"
      },
      "execution_count": null,
      "outputs": []
    }
  ]
}