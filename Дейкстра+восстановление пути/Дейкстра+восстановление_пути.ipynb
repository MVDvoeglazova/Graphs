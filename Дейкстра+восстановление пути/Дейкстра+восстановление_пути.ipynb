{
  "nbformat": 4,
  "nbformat_minor": 0,
  "metadata": {
    "colab": {
      "provenance": []
    },
    "kernelspec": {
      "name": "python3",
      "display_name": "Python 3"
    },
    "language_info": {
      "name": "python"
    }
  },
  "cells": [
    {
      "cell_type": "code",
      "execution_count": null,
      "metadata": {
        "id": "2NUAmgIVd-2p"
      },
      "outputs": [],
      "source": [
        "import math\n",
        "with open('test.txt', 'r', encoding='utf-8') as f1:\n",
        "    my_dict = dict() #словарь, состоит из 3 ключевых имен и их значений:Route:[['a', 'd']]\n",
        "                                                                      #Nodes:[['a', 'b', 'c', 'd', 'e', 'f', 'g']]\n",
        "                                                                      #Edges:[['a', 'b', '10'], ['b', 'c', '2'], ['b', 'd', '9'],...\n",
        "    for s in f1:\n",
        "        if ':' in s:\n",
        "            num = s.find(':')\n",
        "            my_dict[s[:num]] = list()\n",
        "            my_dict[s[:num]] += [s[num+1:-1].split(', ')]\n",
        "        else:\n",
        "            my_dict['Edges'] += [s[:-1].split(', ')]\n",
        "        \n",
        "#список вершин\n",
        "vertex = (my_dict['Nodes'][0])\n",
        "\n",
        "graph = dict() #для хранения ребер вершин и их веса\n",
        "for k in vertex:\n",
        "    graph[k] = []\n",
        "\n",
        "for num_val in range(len(my_dict['Edges'])):\n",
        "    graph[my_dict['Edges'][num_val][1]] += [[my_dict['Edges'][num_val][0],my_dict['Edges'][num_val][2]]]\n",
        "    graph[my_dict['Edges'][num_val][0]] += [[my_dict['Edges'][num_val][1],my_dict['Edges'][num_val][2]]]\n",
        "#graph = {a:[['b', '10'], ['g', '5']], ...\n",
        "\n",
        "\n"
      ]
    },
    {
      "cell_type": "code",
      "source": [
        "Nodes = {i:math.inf for i in my_dict['Nodes'][0]} #cписок вершин и кратчайших путей до них\n",
        "Nodes['a'] = 0 \n",
        "set_visited = set() #множество посещенных вершин\n",
        "\n",
        "def Dijkstra(vert: str, Nodes: dict, set_visited: set, graph: dict):\n",
        "    if len(set_visited) == len(Nodes):\n",
        "        return \n",
        "    if vert not in set_visited:\n",
        "        set_visited.add(vert)\n",
        "         \n",
        "    min_v = vert\n",
        "    for now_v,ed in graph[vert]:\n",
        "            if Nodes[now_v] > float(ed) + float(Nodes[vert]):\n",
        "                 Nodes[now_v] = float(ed) + float(Nodes[vert])\n",
        "                 min_v = now_v\n",
        "    if min_v not in set_visited:\n",
        "        return Dijkstra(min_v, Nodes, set_visited, graph)\n",
        "    else: return\n",
        "            \n",
        "for vert in Nodes:\n",
        "    Dijkstra(vert, Nodes, set_visited, graph)"
      ],
      "metadata": {
        "id": "YmQ6i_RUexiq"
      },
      "execution_count": null,
      "outputs": []
    },
    {
      "cell_type": "code",
      "source": [
        "#vert - рассматриваемая вершина\n",
        "#Nodes - cловарь вида \"вершина\": \"кратчайший путь до нее\"\n",
        "#сhorter_way - cписок вершин, которые представляют собой кратчайший путь от одной заданной вершины до другой\n",
        "def route(vert: str, Nodes: dict, graph: dict, shorter_way: list):\n",
        "    shorter_way.append(vert)\n",
        "    if Nodes[vert] == '0':\n",
        "        return\n",
        "    for v,way in graph[vert]:\n",
        "        if float(Nodes[v]) == float(Nodes[vert] - float(way)):\n",
        "            return route(v, Nodes, graph, shorter_way)\n",
        "shorter_way = list()\n",
        "route(my_dict['Route'][0][1], Nodes, graph, shorter_way) #my_dict['Route'][0][1] в данном случае вершина 'd'"
      ],
      "metadata": {
        "id": "pT1zcQf-kNro"
      },
      "execution_count": null,
      "outputs": []
    }
  ]
}